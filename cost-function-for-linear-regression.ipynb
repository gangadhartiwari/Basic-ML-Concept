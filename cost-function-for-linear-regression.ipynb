{
 "cells": [
  {
   "cell_type": "markdown",
   "metadata": {},
   "source": [
    "# Objective\n",
    "In order to implement linear regression the first key step is to define a *cost function*. \n",
    "<br>\n",
    "*Cost function* will tell us how well the model is doing so that we can try to get it to do better. \n",
    "<br>\n",
    "In this notebook we will explore the following :\n",
    "- Computing the cost\n",
    "- Draw slicer control to select value of $w$\n",
    "- Cost function 3D visualisation\n",
    "- 3D figures and ploting\n",
    "<br>\n",
    "\n",
    "We will use below two data points- a house with 1000 square feet sold for \\\\$300,000 and a house with 2000 square feet sold for \\\\$500,000.\n",
    "\n",
    "\n",
    "| Size (1000 sqft)     | Price (1000s of dollars) |\n",
    "| -------------------| ------------------------ |\n",
    "| 1                 | 300                      |\n",
    "| 2                  | 500                      |\n"
   ]
  },
  {
   "cell_type": "markdown",
   "metadata": {},
   "source": [
    "# Required Libraries and Codes"
   ]
  },
  {
   "cell_type": "code",
   "execution_count": null,
   "metadata": {
    "execution": {
     "iopub.execute_input": "2023-03-19T12:59:16.349161Z",
     "iopub.status.busy": "2023-03-19T12:59:16.348651Z",
     "iopub.status.idle": "2023-03-19T12:59:16.357335Z",
     "shell.execute_reply": "2023-03-19T12:59:16.355789Z",
     "shell.execute_reply.started": "2023-03-19T12:59:16.349121Z"
    }
   },
   "outputs": [],
   "source": [
    "#import required libraries\n",
    "import numpy as np\n",
    "%matplotlib inline\n",
    "import matplotlib.pyplot as plt\n",
    "from matplotlib.gridspec import GridSpec"
   ]
  },
  {
   "cell_type": "code",
   "execution_count": null,
   "metadata": {
    "execution": {
     "iopub.execute_input": "2023-03-19T12:59:19.619896Z",
     "iopub.status.busy": "2023-03-19T12:59:19.619436Z",
     "iopub.status.idle": "2023-03-19T12:59:19.628563Z",
     "shell.execute_reply": "2023-03-19T12:59:19.627117Z",
     "shell.execute_reply.started": "2023-03-19T12:59:19.619856Z"
    }
   },
   "outputs": [],
   "source": [
    "#The code below calculates cost by looping over each example. In each loop:\n",
    "# `f_wb`, a prediction is calculated\n",
    "# the difference between the target and the prediction is calculated and squared.\n",
    "# this is added to the total cost.\n",
    "def compute_cost(x, y, w, b): \n",
    "    \"\"\"\n",
    "    Computes the cost function for linear regression.\n",
    "    \n",
    "    Args:\n",
    "      x (ndarray (m,)): Data, m examples \n",
    "      y (ndarray (m,)): target values\n",
    "      w,b (scalar)    : model parameters  \n",
    "    \n",
    "    Returns\n",
    "        total_cost (float): The cost of using w,b as the parameters for linear regression\n",
    "               to fit the data points in x and y\n",
    "    \"\"\"\n",
    "    # number of training examples\n",
    "    m = x.shape[0] \n",
    "    \n",
    "    cost_sum = 0 \n",
    "    for i in range(m): \n",
    "        f_wb = w * x[i] + b   \n",
    "        cost = (f_wb - y[i]) ** 2  \n",
    "        cost_sum = cost_sum + cost  \n",
    "    total_cost = (1 / (2 * m)) * cost_sum  \n",
    "\n",
    "    return total_cost"
   ]
  },
  {
   "cell_type": "markdown",
   "metadata": {},
   "source": [
    "# Computing Cost\n",
    "The term 'cost' in this assignment might be a little confusing since the data is housing cost.\n",
    "<br>\n",
    "Here, cost is a measure how well our model is predicting the target price of the house. The term 'price' is used for housing data.\n",
    "<br>\n",
    "The equation for cost with one variable is:\n",
    "  $$ J(w,b) = \\frac{1}{2m} \\sum\\limits_{i = 0}^{m-1} (f_{w,b}(x^{(i)}) - y^{(i)})^2 \\$$ \n",
    " \n",
    "where \n",
    "  $$f_{w,b}(x^{(i)}) = wx^{(i)} + b \\$$\n",
    "<br>  \n",
    "- $f_{w,b}(x^{(i)})$ is our prediction for example $i$ using parameters $w,b$.  \n",
    "- $(f_{w,b}(x^{(i)}) -y^{(i)})^2$ is the squared difference between the target value and the prediction.   \n",
    "- These differences are summed over all the $m$ examples and divided by `2m` to produce the cost, $J(w,b)$.  \n",
    "\n"
   ]
  },
  {
   "cell_type": "markdown",
   "metadata": {},
   "source": [
    "## Calculating cost with w = 150 and b = 100"
   ]
  },
  {
   "cell_type": "code",
   "execution_count": null,
   "metadata": {
    "execution": {
     "iopub.execute_input": "2023-03-19T12:59:23.4738Z",
     "iopub.status.busy": "2023-03-19T12:59:23.473345Z",
     "iopub.status.idle": "2023-03-19T12:59:23.481529Z",
     "shell.execute_reply": "2023-03-19T12:59:23.480061Z",
     "shell.execute_reply.started": "2023-03-19T12:59:23.47375Z"
    }
   },
   "outputs": [],
   "source": [
    "#Create x_train and y_train with the help of numpy array\n",
    "x_train = np.array([1.0, 2.0])           #(size in 1000 square feet)\n",
    "y_train = np.array([300.0, 500.0])           #(price in 1000s of dollars)\n",
    "\n",
    "w = 150\n",
    "b = 100\n",
    "#Computing cost with w=200 and b=100\n",
    "cur_cost = compute_cost(x_train, y_train, w, b)\n",
    "print(f\"Cost is: {cur_cost}\")"
   ]
  },
  {
   "cell_type": "markdown",
   "metadata": {},
   "source": [
    "As we know that cost near to 0 will be perfect match, As we can see cost 3125.0 is too high and will not be perfect match. Let's draw this and see the result\n"
   ]
  },
  {
   "cell_type": "code",
   "execution_count": null,
   "metadata": {
    "execution": {
     "iopub.execute_input": "2023-03-19T12:59:25.930893Z",
     "iopub.status.busy": "2023-03-19T12:59:25.930445Z",
     "iopub.status.idle": "2023-03-19T12:59:26.183426Z",
     "shell.execute_reply": "2023-03-19T12:59:26.182105Z",
     "shell.execute_reply.started": "2023-03-19T12:59:25.930855Z"
    }
   },
   "outputs": [],
   "source": [
    "# Plot the data points\n",
    "w = 150\n",
    "plt.scatter(x_train, y_train, marker='x', c='r')\n",
    "# Plot our model prediction\n",
    "m = x_train.shape[0]\n",
    "f_wb = np.zeros(m)\n",
    "for i in range(m):\n",
    "    f_wb[i] = w * x_train[i] + b \n",
    "\n",
    "plt.plot(x_train, f_wb, c='b',label='Our Prediction')\n",
    "# Set the title\n",
    "plt.title(\"Housing Prices\")\n",
    "# Set the y-axis label\n",
    "plt.ylabel('Price (in 1000s of dollars)')\n",
    "# Set the x-axis label\n",
    "plt.xlabel('Size (1000 sqft)')\n",
    "plt.show()"
   ]
  },
  {
   "cell_type": "markdown",
   "metadata": {},
   "source": [
    "We can see in the above plot that this is not perfect model, Let us change the value of w to 200 and try"
   ]
  },
  {
   "cell_type": "code",
   "execution_count": null,
   "metadata": {
    "execution": {
     "iopub.execute_input": "2023-03-19T12:59:29.609653Z",
     "iopub.status.busy": "2023-03-19T12:59:29.609251Z",
     "iopub.status.idle": "2023-03-19T12:59:29.617628Z",
     "shell.execute_reply": "2023-03-19T12:59:29.616243Z",
     "shell.execute_reply.started": "2023-03-19T12:59:29.609618Z"
    }
   },
   "outputs": [],
   "source": [
    "#Create x_train and y_train with the help of numpy array\n",
    "x_train = np.array([1.0, 2.0])           #(size in 1000 square feet)\n",
    "y_train = np.array([300.0, 500.0])           #(price in 1000s of dollars)\n",
    "\n",
    "w = 200\n",
    "#Computing cost with w=200 and b=100\n",
    "cur_cost = compute_cost(x_train, y_train, w, b)\n",
    "print(f\"Cost is: {cur_cost}\")"
   ]
  },
  {
   "cell_type": "markdown",
   "metadata": {},
   "source": [
    "Cost = 0 means it is perfect match, Let's draw it"
   ]
  },
  {
   "cell_type": "code",
   "execution_count": null,
   "metadata": {
    "execution": {
     "iopub.execute_input": "2023-03-19T12:59:31.554561Z",
     "iopub.status.busy": "2023-03-19T12:59:31.554161Z",
     "iopub.status.idle": "2023-03-19T12:59:31.796891Z",
     "shell.execute_reply": "2023-03-19T12:59:31.795387Z",
     "shell.execute_reply.started": "2023-03-19T12:59:31.554526Z"
    }
   },
   "outputs": [],
   "source": [
    "# Plot the data points\n",
    "plt.scatter(x_train, y_train, marker='x', c='r')\n",
    "# Plot our model prediction\n",
    "m = x_train.shape[0]\n",
    "f_wb = np.zeros(m)\n",
    "for i in range(m):\n",
    "    f_wb[i] = w * x_train[i] + b \n",
    "\n",
    "plt.plot(x_train, f_wb, c='b',label='Our Prediction')\n",
    "# Set the title\n",
    "plt.title(\"Housing Prices\")\n",
    "# Set the y-axis label\n",
    "plt.ylabel('Price (in 1000s of dollars)')\n",
    "# Set the x-axis label\n",
    "plt.xlabel('Size (1000 sqft)')\n",
    "plt.show()"
   ]
  },
  {
   "cell_type": "markdown",
   "metadata": {},
   "source": [
    "# Slider Control for value of $w$\n",
    "The cost is a measure of how accurate the model is on the training data.\n",
    "\n",
    "The cost equation (1) above shows that if $w$ and $b$ can be selected such that the predictions $f_{w,b}(x)$ match the target data $y$, the $(f_{w,b}(x^{(i)}) - y^{(i)})^2 $ term will be zero and the cost minimized. In this simple two point example, you can achieve this!\n",
    "\n",
    "<br/>\n",
    "By using below slider control we can select the value of $w$ that minimizes cost."
   ]
  },
  {
   "cell_type": "markdown",
   "metadata": {},
   "source": [
    "## Required Libraries and Codes"
   ]
  },
  {
   "cell_type": "code",
   "execution_count": null,
   "metadata": {
    "execution": {
     "iopub.execute_input": "2023-03-19T12:59:38.276241Z",
     "iopub.status.busy": "2023-03-19T12:59:38.275801Z",
     "iopub.status.idle": "2023-03-19T12:59:38.405536Z",
     "shell.execute_reply": "2023-03-19T12:59:38.404379Z",
     "shell.execute_reply.started": "2023-03-19T12:59:38.276197Z"
    }
   },
   "outputs": [],
   "source": [
    "#initiate variables\n",
    "from matplotlib.colors import LinearSegmentedColormap\n",
    "from ipywidgets import interact\n",
    "dlblue = '#0096ff'; dlorange = '#FF9300'; dldarkred='#C00000'; dlmagenta='#FF40FF'; dlpurple='#7030A0';\n",
    "dlcolors = [dlblue, dlorange, dldarkred, dlmagenta, dlpurple]\n",
    "dlc = dict(dlblue = '#0096ff', dlorange = '#FF9300', dldarkred='#C00000', dlmagenta='#FF40FF', dlpurple='#7030A0')\n",
    "n_bin = 5\n",
    "dlcm = LinearSegmentedColormap.from_list('dl_map', dlcolors, N=n_bin)\n",
    "\n",
    "def plt_house_x(X, y,f_wb=None, ax=None):\n",
    "    ''' plot house with aXis '''\n",
    "    if not ax:\n",
    "        fig, ax = plt.subplots(1,1)\n",
    "    ax.scatter(X, y, marker='x', c='r', label=\"Actual Value\")\n",
    "\n",
    "    ax.set_title(\"Housing Prices\")\n",
    "    ax.set_ylabel('Price (in 1000s of dollars)')\n",
    "    ax.set_xlabel(f'Size (1000 sqft)')\n",
    "    if f_wb is not None:\n",
    "        ax.plot(X, f_wb,  c=dlblue, label=\"Our Prediction\")\n",
    "    ax.legend()\n",
    "\n",
    "def mk_cost_lines(x,y,w,b, ax):\n",
    "    ''' makes vertical cost lines'''\n",
    "    cstr = \"cost = (1/m)*(\"\n",
    "    ctot = 0\n",
    "    label = 'cost for point'\n",
    "    addedbreak = False\n",
    "   \n",
    "    for p in zip(x,y):\n",
    "        f_wb_p = w*p[0]+b\n",
    "        c_p = ((f_wb_p - p[1])**2)/2\n",
    "        c_p_txt = c_p\n",
    "        ax.vlines(p[0], p[1],f_wb_p, lw=3, color=dlpurple, ls='dotted', label=label)\n",
    "        label='' #just one\n",
    "        cxy = [p[0], p[1] + (f_wb_p-p[1])/2]\n",
    "        ax.annotate(f'{c_p_txt:0.0f}', xy=cxy, xycoords='data',color=dlpurple,\n",
    "            xytext=(5, 0), textcoords='offset points')\n",
    "        cstr += f\"{c_p_txt:0.0f} +\"\n",
    "        if len(cstr) > 38 and addedbreak is False:\n",
    "            cstr += \"\\n\"\n",
    "            addedbreak = True\n",
    "        ctot += c_p\n",
    "    ctot = ctot/(len(x))\n",
    "    cstr = cstr[:-1] + f\") = {ctot:0.0f}\"\n",
    "    ax.text(0.15,0.02,cstr, transform=ax.transAxes, color=dlpurple)\n",
    "\n",
    "def plt_intuition(x_train, y_train):\n",
    "\n",
    "    w_range = np.array([200-200,200+200])\n",
    "    tmp_b = 100\n",
    "    \n",
    "    w_array = np.arange(*w_range, 5)\n",
    "    cost = np.zeros_like(w_array)\n",
    "    for i in range(len(w_array)):\n",
    "        tmp_w = w_array[i]\n",
    "        cost[i] = compute_cost(x_train, y_train, tmp_w, tmp_b)\n",
    "\n",
    "    @interact(w=(*w_range,10),continuous_update=False)\n",
    "    def func( w=150):\n",
    "        f_wb = np.dot(x_train, w) + tmp_b\n",
    "\n",
    "        fig, ax = plt.subplots(1, 2, constrained_layout=True, figsize=(8,4))\n",
    "        fig.canvas.toolbar_position = 'bottom'\n",
    "\n",
    "        mk_cost_lines(x_train, y_train, w, tmp_b, ax[0])\n",
    "        plt_house_x(x_train, y_train, f_wb=f_wb, ax=ax[0])\n",
    "\n",
    "        ax[1].plot(w_array, cost)\n",
    "        cur_cost = compute_cost(x_train, y_train, w, tmp_b)\n",
    "        ax[1].scatter(w,cur_cost, s=100, color=dldarkred, zorder= 10, label= f\"cost at w={w}\")\n",
    "        ax[1].hlines(cur_cost, ax[1].get_xlim()[0],w, lw=4, color=dlpurple, ls='dotted')\n",
    "        ax[1].vlines(w, ax[1].get_ylim()[0],cur_cost, lw=4, color=dlpurple, ls='dotted')\n",
    "        ax[1].set_title(\"Cost vs. w, (b fixed at 100)\")\n",
    "        ax[1].set_ylabel('Cost')\n",
    "        ax[1].set_xlabel('w')\n",
    "        ax[1].legend(loc='upper center')\n",
    "        fig.suptitle(f\"Minimize Cost: Current Cost = {cur_cost:0.0f}\", fontsize=12)\n",
    "        plt.show()"
   ]
  },
  {
   "cell_type": "markdown",
   "metadata": {},
   "source": [
    "## Draw a slider control"
   ]
  },
  {
   "cell_type": "markdown",
   "metadata": {},
   "source": [
    "#### NOTE: We can use mouse cursor to click anywhere on the contour plot, and we will see the straight line defined by the values you chose, for parameters w and b."
   ]
  },
  {
   "cell_type": "code",
   "execution_count": null,
   "metadata": {
    "execution": {
     "iopub.execute_input": "2023-03-19T12:59:45.340757Z",
     "iopub.status.busy": "2023-03-19T12:59:45.339598Z",
     "iopub.status.idle": "2023-03-19T12:59:46.039567Z",
     "shell.execute_reply": "2023-03-19T12:59:46.038197Z",
     "shell.execute_reply.started": "2023-03-19T12:59:45.340619Z"
    }
   },
   "outputs": [],
   "source": [
    "plt_intuition(x_train,y_train)"
   ]
  },
  {
   "attachments": {
    "71667b04-d31f-4717-bd8e-533a5b855ab8.png": {
     "image/png": "[encoded data removed]"
    }
   },
   "cell_type": "markdown",
   "metadata": {},
   "source": [
    "## By selecting $w$ value 200 will give us perfect match\n",
    "![image.png](attachment:71667b04-d31f-4717-bd8e-533a5b855ab8.png)"
   ]
  },
  {
   "cell_type": "markdown",
   "metadata": {},
   "source": [
    "The plot contains a few points that are worth mentioning.\n",
    "- cost is minimized when $w = 200$, which matches results from the previous lab\n",
    "- Because the difference between the target and pediction is squared in the cost equation, the cost increases rapidly when $w$ is either too large or too small.\n",
    "- Using the `w` and `b` selected by minimizing cost results in a line which is a perfect fit to the data."
   ]
  },
  {
   "cell_type": "markdown",
   "metadata": {},
   "source": [
    "# Cost Function 3D-Visualization\n",
    "\n",
    "You can see how cost varies with respect to *both* `w` and `b` by plotting in 3D or using a contour plot.   \n",
    "It is worth noting that some of the plotting in this course can become quite involved. The plotting routines are provided and while it can be instructive to read through the code to become familiar with the methods, it is not needed to complete the course successfully."
   ]
  },
  {
   "cell_type": "markdown",
   "metadata": {},
   "source": [
    "### Get Larger Data Set\n",
    "It is instructive to view a scenario with a few more data points. This data set includes data points that do not fall on the same line. What does that mean for the cost equation? Can we find $w$, and $b$ that will give us a cost of 0? "
   ]
  },
  {
   "cell_type": "code",
   "execution_count": null,
   "metadata": {
    "execution": {
     "iopub.execute_input": "2023-03-19T12:59:54.604185Z",
     "iopub.status.busy": "2023-03-19T12:59:54.603696Z",
     "iopub.status.idle": "2023-03-19T12:59:54.611216Z",
     "shell.execute_reply": "2023-03-19T12:59:54.609786Z",
     "shell.execute_reply.started": "2023-03-19T12:59:54.604144Z"
    }
   },
   "outputs": [],
   "source": [
    "x_train = np.array([1.0, 1.7, 2.0, 2.5, 3.0, 3.2])\n",
    "y_train = np.array([250, 300, 480,  430,   630, 730,])"
   ]
  },
  {
   "cell_type": "markdown",
   "metadata": {},
   "source": [
    "#### Below code will use to draw 3D interactive Visualization"
   ]
  },
  {
   "cell_type": "code",
   "execution_count": null,
   "metadata": {
    "execution": {
     "iopub.execute_input": "2023-03-19T12:59:56.29024Z",
     "iopub.status.busy": "2023-03-19T12:59:56.289773Z",
     "iopub.status.idle": "2023-03-19T12:59:56.313468Z",
     "shell.execute_reply": "2023-03-19T12:59:56.311938Z",
     "shell.execute_reply.started": "2023-03-19T12:59:56.290199Z"
    }
   },
   "outputs": [],
   "source": [
    "def plt_stationary(x_train, y_train):\n",
    "    # setup figure\n",
    "    fig = plt.figure( figsize=(9,8))\n",
    "    #fig = plt.figure(constrained_layout=True,  figsize=(12,10))\n",
    "    fig.set_facecolor('#ffffff') #white\n",
    "    fig.canvas.toolbar_position = 'top'\n",
    "    #gs = GridSpec(2, 2, figure=fig, wspace = 0.01)\n",
    "    gs = GridSpec(2, 2, figure=fig)\n",
    "    ax0 = fig.add_subplot(gs[0, 0])\n",
    "    ax1 = fig.add_subplot(gs[0, 1])\n",
    "    ax2 = fig.add_subplot(gs[1, :],  projection='3d')\n",
    "    ax = np.array([ax0,ax1,ax2])\n",
    "\n",
    "    #setup useful ranges and common linspaces\n",
    "    w_range = np.array([200-300.,200+300])\n",
    "    b_range = np.array([50-300., 50+300])\n",
    "    b_space  = np.linspace(*b_range, 100)\n",
    "    w_space  = np.linspace(*w_range, 100)\n",
    "\n",
    "    # get cost for w,b ranges for contour and 3D\n",
    "    tmp_b,tmp_w = np.meshgrid(b_space,w_space)\n",
    "    z=np.zeros_like(tmp_b)\n",
    "    for i in range(tmp_w.shape[0]):\n",
    "        for j in range(tmp_w.shape[1]):\n",
    "            z[i,j] = compute_cost(x_train, y_train, tmp_w[i][j], tmp_b[i][j] )\n",
    "            if z[i,j] == 0: z[i,j] = 1e-6\n",
    "\n",
    "    w0=200;b=-100    #initial point\n",
    "    ### plot model w cost ###\n",
    "    f_wb = np.dot(x_train,w0) + b\n",
    "    mk_cost_lines(x_train,y_train,w0,b,ax[0])\n",
    "    plt_house_x(x_train, y_train, f_wb=f_wb, ax=ax[0])\n",
    "\n",
    "    ### plot contour ###\n",
    "    CS = ax[1].contour(tmp_w, tmp_b, np.log(z),levels=12, linewidths=2, alpha=0.7,colors=dlcolors)\n",
    "    ax[1].set_title('Cost(w,b)')\n",
    "    ax[1].set_xlabel('w', fontsize=10)\n",
    "    ax[1].set_ylabel('b', fontsize=10)\n",
    "    ax[1].set_xlim(w_range) ; ax[1].set_ylim(b_range)\n",
    "    cscat  = ax[1].scatter(w0,b, s=100, color=dlblue, zorder= 10, label=\"cost with \\ncurrent w,b\")\n",
    "    chline = ax[1].hlines(b, ax[1].get_xlim()[0],w0, lw=4, color=dlpurple, ls='dotted')\n",
    "    cvline = ax[1].vlines(w0, ax[1].get_ylim()[0],b, lw=4, color=dlpurple, ls='dotted')\n",
    "    ax[1].text(0.5,0.95,\"Click to choose w,b\",  bbox=dict(facecolor='white', ec = 'black'), fontsize = 10,\n",
    "                transform=ax[1].transAxes, verticalalignment = 'center', horizontalalignment= 'center')\n",
    "\n",
    "    #Surface plot of the cost function J(w,b)\n",
    "    ax[2].plot_surface(tmp_w, tmp_b, z,  cmap = dlcm, alpha=0.3, antialiased=True)\n",
    "    ax[2].plot_wireframe(tmp_w, tmp_b, z, color='k', alpha=0.1)\n",
    "    plt.xlabel(\"$w$\")\n",
    "    plt.ylabel(\"$b$\")\n",
    "    ax[2].zaxis.set_rotate_label(False)\n",
    "    ax[2].xaxis.set_pane_color((1.0, 1.0, 1.0, 0.0))\n",
    "    ax[2].yaxis.set_pane_color((1.0, 1.0, 1.0, 0.0))\n",
    "    ax[2].zaxis.set_pane_color((1.0, 1.0, 1.0, 0.0))\n",
    "    ax[2].set_zlabel(\"J(w, b)\\n\\n\", rotation=90)\n",
    "    plt.title(\"Cost(w,b) \\n [You can rotate this figure]\", size=12)\n",
    "    ax[2].view_init(30, -120)\n",
    "\n",
    "    return fig,ax, [cscat, chline, cvline]\n"
   ]
  },
  {
   "cell_type": "code",
   "execution_count": null,
   "metadata": {
    "execution": {
     "iopub.execute_input": "2023-03-19T12:59:59.658517Z",
     "iopub.status.busy": "2023-03-19T12:59:59.657604Z",
     "iopub.status.idle": "2023-03-19T12:59:59.677052Z",
     "shell.execute_reply": "2023-03-19T12:59:59.67538Z",
     "shell.execute_reply.started": "2023-03-19T12:59:59.658449Z"
    }
   },
   "outputs": [],
   "source": [
    "class plt_update_onclick:\n",
    "    def __init__(self, fig, ax, x_train,y_train, dyn_items):\n",
    "        self.fig = fig\n",
    "        self.ax = ax\n",
    "        self.x_train = x_train\n",
    "        self.y_train = y_train\n",
    "        self.dyn_items = dyn_items\n",
    "        self.cid = fig.canvas.mpl_connect('button_press_event', self)\n",
    "\n",
    "    def __call__(self, event):\n",
    "        if event.inaxes == self.ax[1]:\n",
    "            ws = event.xdata\n",
    "            bs = event.ydata\n",
    "            cst = compute_cost(self.x_train, self.y_train, ws, bs)\n",
    "\n",
    "            # clear and redraw line plot\n",
    "            self.ax[0].clear()\n",
    "            f_wb = np.dot(self.x_train,ws) + bs\n",
    "            mk_cost_lines(self.x_train,self.y_train,ws,bs,self.ax[0])\n",
    "            plt_house_x(self.x_train, self.y_train, f_wb=f_wb, ax=self.ax[0])\n",
    "\n",
    "            # remove lines and re-add on countour plot and 3d plot\n",
    "            for artist in self.dyn_items:\n",
    "                artist.remove()\n",
    "\n",
    "            a = self.ax[1].scatter(ws,bs, s=100, color=dlblue, zorder= 10, label=\"cost with \\ncurrent w,b\")\n",
    "            b = self.ax[1].hlines(bs, self.ax[1].get_xlim()[0],ws, lw=4, color=dlpurple, ls='dotted')\n",
    "            c = self.ax[1].vlines(ws, self.ax[1].get_ylim()[0],bs, lw=4, color=dlpurple, ls='dotted')\n",
    "            d = self.ax[1].annotate(f\"Cost: {cst:.0f}\", xy= (ws, bs), xytext = (4,4), textcoords = 'offset points',\n",
    "                               bbox=dict(facecolor='white'), size = 10)\n",
    "\n",
    "            #Add point in 3D surface plot\n",
    "            e = self.ax[2].scatter3D(ws, bs,cst , marker='X', s=100)\n",
    "\n",
    "            self.dyn_items = [a,b,c,d,e]\n",
    "            self.fig.canvas.draw()\n"
   ]
  },
  {
   "cell_type": "markdown",
   "metadata": {},
   "source": [
    "#### In the contour plot, click on a point to select `w` and `b` to achieve the lowest cost. \n",
    "#### Use the contours to guide your selections. Note, it can take a few seconds to update the graph. "
   ]
  },
  {
   "cell_type": "code",
   "execution_count": null,
   "metadata": {
    "execution": {
     "iopub.execute_input": "2023-03-19T13:00:02.653104Z",
     "iopub.status.busy": "2023-03-19T13:00:02.652303Z",
     "iopub.status.idle": "2023-03-19T13:00:04.415392Z",
     "shell.execute_reply": "2023-03-19T13:00:04.41408Z",
     "shell.execute_reply.started": "2023-03-19T13:00:02.653049Z"
    }
   },
   "outputs": [],
   "source": [
    "#Cost Function 3D-Visualization\n",
    "fig, ax, dyn_items = plt_stationary(x_train, y_train)\n",
    "updater = plt_update_onclick(fig, ax, x_train, y_train, dyn_items)"
   ]
  },
  {
   "cell_type": "markdown",
   "metadata": {},
   "source": [
    "# Figure and plot - 3D projection"
   ]
  },
  {
   "cell_type": "markdown",
   "metadata": {},
   "source": [
    "\n",
    "Below code will generate 3d surface plot that we can manually rotate and spin around. \n",
    "#### Note: Use your mouse cursor, to take a better look at what the cost function looks like."
   ]
  },
  {
   "cell_type": "code",
   "execution_count": null,
   "metadata": {
    "execution": {
     "iopub.execute_input": "2023-03-19T13:00:07.561593Z",
     "iopub.status.busy": "2023-03-19T13:00:07.560428Z",
     "iopub.status.idle": "2023-03-19T13:00:07.573608Z",
     "shell.execute_reply": "2023-03-19T13:00:07.57218Z",
     "shell.execute_reply.started": "2023-03-19T13:00:07.561546Z"
    }
   },
   "outputs": [],
   "source": [
    "# Figure and plot - 3D projection\n",
    "def soup_bowl():\n",
    "    \"\"\" Create figure and plot with a 3D projection\"\"\"\n",
    "    fig = plt.figure(figsize=(8,8))\n",
    "\n",
    "    #Plot configuration\n",
    "    ax = fig.add_subplot(111, projection='3d')\n",
    "    ax.xaxis.set_pane_color((1.0, 1.0, 1.0, 0.0))\n",
    "    ax.yaxis.set_pane_color((1.0, 1.0, 1.0, 0.0))\n",
    "    ax.zaxis.set_pane_color((1.0, 1.0, 1.0, 0.0))\n",
    "    ax.zaxis.set_rotate_label(False)\n",
    "    ax.view_init(45, -120)\n",
    "\n",
    "    #Useful linearspaces to give values to the parameters w and b\n",
    "    w = np.linspace(-20, 20, 100)\n",
    "    b = np.linspace(-20, 20, 100)\n",
    "\n",
    "    #Get the z value for a bowl-shaped cost function\n",
    "    z=np.zeros((len(w), len(b)))\n",
    "    j=0\n",
    "    for x in w:\n",
    "        i=0\n",
    "        for y in b:\n",
    "            z[i,j] = x**2 + y**2\n",
    "            i+=1\n",
    "        j+=1\n",
    "\n",
    "    #Meshgrid used for plotting 3D functions\n",
    "    W, B = np.meshgrid(w, b)\n",
    "\n",
    "    #Create the 3D surface plot of the bowl-shaped cost function\n",
    "    ax.plot_surface(W, B, z, cmap = \"Spectral_r\", alpha=0.7, antialiased=False)\n",
    "    ax.plot_wireframe(W, B, z, color='k', alpha=0.1)\n",
    "    ax.set_xlabel(\"$w$\")\n",
    "    ax.set_ylabel(\"$b$\")\n",
    "    ax.set_zlabel(\"$J(w,b)$\", rotation=90)\n",
    "    ax.set_title(\"$J(w,b)$\\n [You can rotate this figure]\", size=15)\n",
    "\n",
    "    plt.show()\n"
   ]
  },
  {
   "cell_type": "markdown",
   "metadata": {},
   "source": [
    "### Convex Cost surface\n",
    "The fact that the cost function squares the loss ensures that the 'error surface' is convex like a soup bowl.\n",
    "<br>\n",
    "It will always have a minimum that can be reached by following the gradient in all dimensions. "
   ]
  },
  {
   "cell_type": "code",
   "execution_count": null,
   "metadata": {
    "execution": {
     "iopub.execute_input": "2023-03-19T13:00:12.164041Z",
     "iopub.status.busy": "2023-03-19T13:00:12.163459Z",
     "iopub.status.idle": "2023-03-19T13:00:13.103259Z",
     "shell.execute_reply": "2023-03-19T13:00:13.101629Z",
     "shell.execute_reply.started": "2023-03-19T13:00:12.163996Z"
    }
   },
   "outputs": [],
   "source": [
    "# Function to generate, Figure and plot - 3D projection\n",
    "soup_bowl()"
   ]
  },
  {
   "cell_type": "markdown",
   "metadata": {},
   "source": [
    "# Summary!\n",
    "In this note book we have learned the following:\n",
    "- How to computing the cost of the model.\n",
    "- How to draw slicer control to select value of $w$\n",
    "- How to drw cost function 3D visualisation\n",
    "- How to draw 3D figures and ploting"
   ]
  }
 ],
 "metadata": {
  "kaggle": {
   "accelerator": "none",
   "dataSources": [],
   "dockerImageVersionId": 30407,
   "isGpuEnabled": false,
   "isInternetEnabled": false,
   "language": "python",
   "sourceType": "notebook"
  },
  "kernelspec": {
   "display_name": "Python 3 (ipykernel)",
   "language": "python",
   "name": "python3"
  },
  "language_info": {
   "codemirror_mode": {
    "name": "ipython",
    "version": 3
   },
   "file_extension": ".py",
   "mimetype": "text/x-python",
   "name": "python",
   "nbconvert_exporter": "python",
   "pygments_lexer": "ipython3",
   "version": "3.12.7"
  }
 },
 "nbformat": 4,
 "nbformat_minor": 4
}
