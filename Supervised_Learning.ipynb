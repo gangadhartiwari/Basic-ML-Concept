{
 "cells": [
  {
   "cell_type": "markdown",
   "id": "f7cfbec5-dd49-4e16-8c0e-00236bbbe8a5",
   "metadata": {},
   "source": [
    "<h1 style = \"color:aqua\">Supervised Machine Learning</h1>"
   ]
  },
  {
   "cell_type": "raw",
   "id": "8ffeb218-72d0-433e-99bf-7c6c2fd59ac6",
   "metadata": {},
   "source": [
    "SUPERVISED LEARNING :- \n",
    "\n",
    "Regression:- \n",
    "--> LINEAR REGRESSION   -  IF THE PREDICTION IS CONNTINUOUS OR NUMERICAL (MORE VARIATION)\n",
    " --> LOGISTIC REGRESSION  - IF THE OUTPUT IS CATEGORICAL "
   ]
  },
  {
   "cell_type": "markdown",
   "id": "56d1e266-2d3d-4323-b461-b191f4d23ea3",
   "metadata": {},
   "source": [
    "<H2 style=\"color:yellow\">LINEAR REGRESSION</H2>"
   ]
  },
  {
   "cell_type": "raw",
   "id": "5fcd0920-9a45-49fe-9ef3-1b38719026da",
   "metadata": {},
   "source": [
    "Y = MX+C  (least squared method)\n",
    "\n",
    " y = output, (dependent variable)\n",
    " m = slope/gradient/cofficient, (if we change a unit in x then what changes will be in y )\n",
    " x = input, \n",
    " c = intercept (when x is 0 where y will lie) "
   ]
  },
  {
   "cell_type": "code",
   "execution_count": null,
   "id": "c422aac4-ddd9-4615-b1da-e68a42282e35",
   "metadata": {},
   "outputs": [],
   "source": [
    "# learning rate (alpha value)\n",
    "# cost or lost value (function) "
   ]
  }
 ],
 "metadata": {
  "kernelspec": {
   "display_name": "Python 3 (ipykernel)",
   "language": "python",
   "name": "python3"
  },
  "language_info": {
   "codemirror_mode": {
    "name": "ipython",
    "version": 3
   },
   "file_extension": ".py",
   "mimetype": "text/x-python",
   "name": "python",
   "nbconvert_exporter": "python",
   "pygments_lexer": "ipython3",
   "version": "3.12.7"
  }
 },
 "nbformat": 4,
 "nbformat_minor": 5
}
